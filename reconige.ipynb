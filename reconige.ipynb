{
 "cells": [
  {
   "cell_type": "code",
   "execution_count": 1,
   "id": "b42559e1",
   "metadata": {},
   "outputs": [],
   "source": [
    "import cv2\n",
    "import numpy as np\n",
    "from tensorflow.keras.models import load_model \n"
   ]
  },
  {
   "cell_type": "code",
   "execution_count": 2,
   "id": "a3f34523",
   "metadata": {},
   "outputs": [
    {
     "name": "stderr",
     "output_type": "stream",
     "text": [
      "WARNING:absl:Compiled the loaded model, but the compiled metrics have yet to be built. `model.compile_metrics` will be empty until you train or evaluate the model.\n"
     ]
    }
   ],
   "source": [
    "model = load_model('gesture_model.h5')\n"
   ]
  },
  {
   "cell_type": "code",
   "execution_count": 3,
   "id": "fcb41031",
   "metadata": {},
   "outputs": [],
   "source": [
    "class_names = ['01_palm', '02_l', '03_fist', '04_fist_moved', \n",
    "               '05_thumb', '06_index', '07_ok', '08_palm_moved', \n",
    "               '09_c', '10_down']"
   ]
  },
  {
   "cell_type": "code",
   "execution_count": 4,
   "id": "d21cd721",
   "metadata": {},
   "outputs": [],
   "source": [
    "landmark_names = {\n",
    "    0: \"Wrist\",\n",
    "    1: \"Thumb CMC\", 2: \"Thumb MCP\", 3: \"Thumb IP\", 4: \"Thumb Tip\",\n",
    "    5: \"Index MCP\", 6: \"Index PIP\", 7: \"Index DIP\", 8: \"Index Tip\",\n",
    "    9: \"Middle MCP\", 10: \"Middle PIP\", 11: \"Middle DIP\", 12: \"Middle Tip\",\n",
    "    13: \"Ring MCP\", 14: \"Ring PIP\", 15: \"Ring DIP\", 16: \"Ring Tip\",\n",
    "    17: \"Pinky MCP\", 18: \"Pinky PIP\", 19: \"Pinky DIP\", 20: \"Pinky Tip\"\n",
    "}\n"
   ]
  },
  {
   "cell_type": "code",
   "execution_count": 5,
   "id": "0483a299",
   "metadata": {},
   "outputs": [
    {
     "ename": "AttributeError",
     "evalue": "'dict' object has no attribute 'landmark'",
     "output_type": "error",
     "traceback": [
      "\u001b[1;31m---------------------------------------------------------------------------\u001b[0m",
      "\u001b[1;31mAttributeError\u001b[0m                            Traceback (most recent call last)",
      "Cell \u001b[1;32mIn[5], line 29\u001b[0m\n\u001b[0;32m     26\u001b[0m mp_draw\u001b[38;5;241m.\u001b[39mdraw_landmarks(frame, hand_landmarks, mp_hands\u001b[38;5;241m.\u001b[39mHAND_CONNECTIONS)\n\u001b[0;32m     28\u001b[0m h, w, _ \u001b[38;5;241m=\u001b[39m frame\u001b[38;5;241m.\u001b[39mshape\n\u001b[1;32m---> 29\u001b[0m \u001b[38;5;28;01mfor\u001b[39;00m idx, lm \u001b[38;5;129;01min\u001b[39;00m \u001b[38;5;28menumerate\u001b[39m(landmark_names\u001b[38;5;241m.\u001b[39mlandmark):\n\u001b[0;32m     30\u001b[0m     cx, cy \u001b[38;5;241m=\u001b[39m \u001b[38;5;28mint\u001b[39m(lm\u001b[38;5;241m.\u001b[39mx \u001b[38;5;241m*\u001b[39m w), \u001b[38;5;28mint\u001b[39m(lm\u001b[38;5;241m.\u001b[39my \u001b[38;5;241m*\u001b[39m h)\n\u001b[0;32m     31\u001b[0m     cv2\u001b[38;5;241m.\u001b[39mputText(frame, \u001b[38;5;28mstr\u001b[39m(idx), (cx, cy), cv2\u001b[38;5;241m.\u001b[39mFONT_HERSHEY_SIMPLEX, \u001b[38;5;241m0.5\u001b[39m, (\u001b[38;5;241m0\u001b[39m, \u001b[38;5;241m255\u001b[39m, \u001b[38;5;241m0\u001b[39m), \u001b[38;5;241m1\u001b[39m)\n",
      "\u001b[1;31mAttributeError\u001b[0m: 'dict' object has no attribute 'landmark'"
     ]
    }
   ],
   "source": [
    "# Set mode to either \"gesture\" or \"landmarks\"\n",
    "mode = \"gesture\"  # or \"landmarks\"\n",
    "\n",
    "if mode == \"gesture\":\n",
    "    img_size = 64\n",
    "    cap = cv2.VideoCapture(0)\n",
    "    import mediapipe as mp\n",
    "\n",
    "    # Initialize MediaPipe Hands\n",
    "    mp_hands = mp.solutions.hands\n",
    "    hands = mp_hands.Hands(max_num_hands=1, min_detection_confidence=0.7)\n",
    "    mp_draw = mp.solutions.drawing_utils\n",
    "\n",
    "    cap = cv2.VideoCapture(0)\n",
    "\n",
    "    while True:\n",
    "        ret, frame = cap.read()\n",
    "        if not ret:\n",
    "            break\n",
    "\n",
    "        frame_rgb = cv2.cvtColor(frame, cv2.COLOR_BGR2RGB)\n",
    "        results = hands.process(frame_rgb)\n",
    "\n",
    "        if results.multi_hand_landmarks:\n",
    "            for hand_landmarks in results.multi_hand_landmarks:\n",
    "                mp_draw.draw_landmarks(frame, hand_landmarks, mp_hands.HAND_CONNECTIONS)\n",
    "\n",
    "                h, w, _ = frame.shape\n",
    "                for idx, lm in enumerate(landmark_names.landmark):\n",
    "                    cx, cy = int(lm.x * w), int(lm.y * h)\n",
    "                    cv2.putText(frame, str(idx), (cx, cy), cv2.FONT_HERSHEY_SIMPLEX, 0.5, (0, 255, 0), 1)\n",
    "\n",
    "        cv2.imshow(\"Hand Landmarks\", frame)\n",
    "\n",
    "        if cv2.waitKey(1) & 0xFF == ord('q'):\n",
    "            break\n",
    "\n",
    "    cap.release()\n",
    "    cv2.destroyAllWindows()\n",
    "\n"
   ]
  },
  {
   "cell_type": "code",
   "execution_count": null,
   "id": "c1ec5722",
   "metadata": {},
   "outputs": [],
   "source": []
  },
  {
   "cell_type": "code",
   "execution_count": null,
   "id": "7fb8fb6a",
   "metadata": {},
   "outputs": [],
   "source": []
  }
 ],
 "metadata": {
  "kernelspec": {
   "display_name": "base",
   "language": "python",
   "name": "python3"
  },
  "language_info": {
   "codemirror_mode": {
    "name": "ipython",
    "version": 3
   },
   "file_extension": ".py",
   "mimetype": "text/x-python",
   "name": "python",
   "nbconvert_exporter": "python",
   "pygments_lexer": "ipython3",
   "version": "3.12.7"
  }
 },
 "nbformat": 4,
 "nbformat_minor": 5
}
